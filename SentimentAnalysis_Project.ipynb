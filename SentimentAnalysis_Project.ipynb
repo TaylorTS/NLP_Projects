{
  "nbformat": 4,
  "nbformat_minor": 0,
  "metadata": {
    "colab": {
      "name": "SentimentAnalysis_Project",
      "provenance": []
    },
    "kernelspec": {
      "name": "python3",
      "display_name": "Python 3"
    },
    "language_info": {
      "name": "python"
    }
  },
  "cells": [
    {
      "cell_type": "code",
      "execution_count": 38,
      "metadata": {
        "id": "85kwouB3Ts9_"
      },
      "outputs": [],
      "source": [
        "import pandas as pd\n",
        "import numpy as np\n",
        "import matplotlib.pyplot as plt\n",
        "import seaborn as sns\n",
        "%matplotlib inline"
      ]
    },
    {
      "cell_type": "code",
      "source": [
        "# Dataset was downloaded from Kaggle"
      ],
      "metadata": {
        "id": "B06CwwhbaIoT"
      },
      "execution_count": null,
      "outputs": []
    },
    {
      "cell_type": "code",
      "source": [
        "data = pd.read_csv('/content/Datafiniti_Hotel_Reviews.csv')\n",
        "data.info()\n",
        "data.head(2)\n",
        "data.columns\n",
        "data.index\n",
        "data.describe()"
      ],
      "metadata": {
        "colab": {
          "base_uri": "https://localhost:8080/",
          "height": 841
        },
        "id": "_8rxb_cKYVJi",
        "outputId": "2cda9b7a-ce7e-4a29-c715-a405b7df1483"
      },
      "execution_count": 2,
      "outputs": [
        {
          "output_type": "stream",
          "name": "stdout",
          "text": [
            "<class 'pandas.core.frame.DataFrame'>\n",
            "RangeIndex: 10000 entries, 0 to 9999\n",
            "Data columns (total 25 columns):\n",
            " #   Column                Non-Null Count  Dtype  \n",
            "---  ------                --------------  -----  \n",
            " 0   id                    10000 non-null  object \n",
            " 1   dateAdded             10000 non-null  object \n",
            " 2   dateUpdated           10000 non-null  object \n",
            " 3   address               10000 non-null  object \n",
            " 4   categories            10000 non-null  object \n",
            " 5   primaryCategories     10000 non-null  object \n",
            " 6   city                  10000 non-null  object \n",
            " 7   country               10000 non-null  object \n",
            " 8   keys                  10000 non-null  object \n",
            " 9   latitude              10000 non-null  float64\n",
            " 10  longitude             10000 non-null  float64\n",
            " 11  name                  10000 non-null  object \n",
            " 12  postalCode            10000 non-null  object \n",
            " 13  province              10000 non-null  object \n",
            " 14  reviews.date          10000 non-null  object \n",
            " 15  reviews.dateSeen      10000 non-null  object \n",
            " 16  reviews.rating        10000 non-null  float64\n",
            " 17  reviews.sourceURLs    10000 non-null  object \n",
            " 18  reviews.text          9999 non-null   object \n",
            " 19  reviews.title         9999 non-null   object \n",
            " 20  reviews.userCity      4164 non-null   object \n",
            " 21  reviews.userProvince  2705 non-null   object \n",
            " 22  reviews.username      10000 non-null  object \n",
            " 23  sourceURLs            10000 non-null  object \n",
            " 24  websites              10000 non-null  object \n",
            "dtypes: float64(3), object(22)\n",
            "memory usage: 1.9+ MB\n"
          ]
        },
        {
          "output_type": "execute_result",
          "data": {
            "text/plain": [
              "           latitude     longitude  reviews.rating\n",
              "count  10000.000000  10000.000000    10000.000000\n",
              "mean      37.003630    -92.675934        4.034265\n",
              "std        5.517273     19.347989        1.162240\n",
              "min       19.438604   -159.474930        1.000000\n",
              "25%       33.927588   -111.622343        3.350000\n",
              "50%       37.785060    -84.452114        4.000000\n",
              "75%       40.416380    -77.052700        5.000000\n",
              "max       70.133620    -68.203990        5.000000"
            ],
            "text/html": [
              "\n",
              "  <div id=\"df-bac3b90e-18de-4b60-8626-b9603ed56651\">\n",
              "    <div class=\"colab-df-container\">\n",
              "      <div>\n",
              "<style scoped>\n",
              "    .dataframe tbody tr th:only-of-type {\n",
              "        vertical-align: middle;\n",
              "    }\n",
              "\n",
              "    .dataframe tbody tr th {\n",
              "        vertical-align: top;\n",
              "    }\n",
              "\n",
              "    .dataframe thead th {\n",
              "        text-align: right;\n",
              "    }\n",
              "</style>\n",
              "<table border=\"1\" class=\"dataframe\">\n",
              "  <thead>\n",
              "    <tr style=\"text-align: right;\">\n",
              "      <th></th>\n",
              "      <th>latitude</th>\n",
              "      <th>longitude</th>\n",
              "      <th>reviews.rating</th>\n",
              "    </tr>\n",
              "  </thead>\n",
              "  <tbody>\n",
              "    <tr>\n",
              "      <th>count</th>\n",
              "      <td>10000.000000</td>\n",
              "      <td>10000.000000</td>\n",
              "      <td>10000.000000</td>\n",
              "    </tr>\n",
              "    <tr>\n",
              "      <th>mean</th>\n",
              "      <td>37.003630</td>\n",
              "      <td>-92.675934</td>\n",
              "      <td>4.034265</td>\n",
              "    </tr>\n",
              "    <tr>\n",
              "      <th>std</th>\n",
              "      <td>5.517273</td>\n",
              "      <td>19.347989</td>\n",
              "      <td>1.162240</td>\n",
              "    </tr>\n",
              "    <tr>\n",
              "      <th>min</th>\n",
              "      <td>19.438604</td>\n",
              "      <td>-159.474930</td>\n",
              "      <td>1.000000</td>\n",
              "    </tr>\n",
              "    <tr>\n",
              "      <th>25%</th>\n",
              "      <td>33.927588</td>\n",
              "      <td>-111.622343</td>\n",
              "      <td>3.350000</td>\n",
              "    </tr>\n",
              "    <tr>\n",
              "      <th>50%</th>\n",
              "      <td>37.785060</td>\n",
              "      <td>-84.452114</td>\n",
              "      <td>4.000000</td>\n",
              "    </tr>\n",
              "    <tr>\n",
              "      <th>75%</th>\n",
              "      <td>40.416380</td>\n",
              "      <td>-77.052700</td>\n",
              "      <td>5.000000</td>\n",
              "    </tr>\n",
              "    <tr>\n",
              "      <th>max</th>\n",
              "      <td>70.133620</td>\n",
              "      <td>-68.203990</td>\n",
              "      <td>5.000000</td>\n",
              "    </tr>\n",
              "  </tbody>\n",
              "</table>\n",
              "</div>\n",
              "      <button class=\"colab-df-convert\" onclick=\"convertToInteractive('df-bac3b90e-18de-4b60-8626-b9603ed56651')\"\n",
              "              title=\"Convert this dataframe to an interactive table.\"\n",
              "              style=\"display:none;\">\n",
              "        \n",
              "  <svg xmlns=\"http://www.w3.org/2000/svg\" height=\"24px\"viewBox=\"0 0 24 24\"\n",
              "       width=\"24px\">\n",
              "    <path d=\"M0 0h24v24H0V0z\" fill=\"none\"/>\n",
              "    <path d=\"M18.56 5.44l.94 2.06.94-2.06 2.06-.94-2.06-.94-.94-2.06-.94 2.06-2.06.94zm-11 1L8.5 8.5l.94-2.06 2.06-.94-2.06-.94L8.5 2.5l-.94 2.06-2.06.94zm10 10l.94 2.06.94-2.06 2.06-.94-2.06-.94-.94-2.06-.94 2.06-2.06.94z\"/><path d=\"M17.41 7.96l-1.37-1.37c-.4-.4-.92-.59-1.43-.59-.52 0-1.04.2-1.43.59L10.3 9.45l-7.72 7.72c-.78.78-.78 2.05 0 2.83L4 21.41c.39.39.9.59 1.41.59.51 0 1.02-.2 1.41-.59l7.78-7.78 2.81-2.81c.8-.78.8-2.07 0-2.86zM5.41 20L4 18.59l7.72-7.72 1.47 1.35L5.41 20z\"/>\n",
              "  </svg>\n",
              "      </button>\n",
              "      \n",
              "  <style>\n",
              "    .colab-df-container {\n",
              "      display:flex;\n",
              "      flex-wrap:wrap;\n",
              "      gap: 12px;\n",
              "    }\n",
              "\n",
              "    .colab-df-convert {\n",
              "      background-color: #E8F0FE;\n",
              "      border: none;\n",
              "      border-radius: 50%;\n",
              "      cursor: pointer;\n",
              "      display: none;\n",
              "      fill: #1967D2;\n",
              "      height: 32px;\n",
              "      padding: 0 0 0 0;\n",
              "      width: 32px;\n",
              "    }\n",
              "\n",
              "    .colab-df-convert:hover {\n",
              "      background-color: #E2EBFA;\n",
              "      box-shadow: 0px 1px 2px rgba(60, 64, 67, 0.3), 0px 1px 3px 1px rgba(60, 64, 67, 0.15);\n",
              "      fill: #174EA6;\n",
              "    }\n",
              "\n",
              "    [theme=dark] .colab-df-convert {\n",
              "      background-color: #3B4455;\n",
              "      fill: #D2E3FC;\n",
              "    }\n",
              "\n",
              "    [theme=dark] .colab-df-convert:hover {\n",
              "      background-color: #434B5C;\n",
              "      box-shadow: 0px 1px 3px 1px rgba(0, 0, 0, 0.15);\n",
              "      filter: drop-shadow(0px 1px 2px rgba(0, 0, 0, 0.3));\n",
              "      fill: #FFFFFF;\n",
              "    }\n",
              "  </style>\n",
              "\n",
              "      <script>\n",
              "        const buttonEl =\n",
              "          document.querySelector('#df-bac3b90e-18de-4b60-8626-b9603ed56651 button.colab-df-convert');\n",
              "        buttonEl.style.display =\n",
              "          google.colab.kernel.accessAllowed ? 'block' : 'none';\n",
              "\n",
              "        async function convertToInteractive(key) {\n",
              "          const element = document.querySelector('#df-bac3b90e-18de-4b60-8626-b9603ed56651');\n",
              "          const dataTable =\n",
              "            await google.colab.kernel.invokeFunction('convertToInteractive',\n",
              "                                                     [key], {});\n",
              "          if (!dataTable) return;\n",
              "\n",
              "          const docLinkHtml = 'Like what you see? Visit the ' +\n",
              "            '<a target=\"_blank\" href=https://colab.research.google.com/notebooks/data_table.ipynb>data table notebook</a>'\n",
              "            + ' to learn more about interactive tables.';\n",
              "          element.innerHTML = '';\n",
              "          dataTable['output_type'] = 'display_data';\n",
              "          await google.colab.output.renderOutput(dataTable, element);\n",
              "          const docLink = document.createElement('div');\n",
              "          docLink.innerHTML = docLinkHtml;\n",
              "          element.appendChild(docLink);\n",
              "        }\n",
              "      </script>\n",
              "    </div>\n",
              "  </div>\n",
              "  "
            ]
          },
          "metadata": {},
          "execution_count": 2
        }
      ]
    },
    {
      "cell_type": "code",
      "source": [
        "# check on missing data\n",
        "data.isnull().sum()"
      ],
      "metadata": {
        "colab": {
          "base_uri": "https://localhost:8080/"
        },
        "id": "yiBPtmP5ZZAf",
        "outputId": "e353ff29-2456-44f2-cf6e-0ead4b3df431"
      },
      "execution_count": 3,
      "outputs": [
        {
          "output_type": "execute_result",
          "data": {
            "text/plain": [
              "id                         0\n",
              "dateAdded                  0\n",
              "dateUpdated                0\n",
              "address                    0\n",
              "categories                 0\n",
              "primaryCategories          0\n",
              "city                       0\n",
              "country                    0\n",
              "keys                       0\n",
              "latitude                   0\n",
              "longitude                  0\n",
              "name                       0\n",
              "postalCode                 0\n",
              "province                   0\n",
              "reviews.date               0\n",
              "reviews.dateSeen           0\n",
              "reviews.rating             0\n",
              "reviews.sourceURLs         0\n",
              "reviews.text               1\n",
              "reviews.title              1\n",
              "reviews.userCity        5836\n",
              "reviews.userProvince    7295\n",
              "reviews.username           0\n",
              "sourceURLs                 0\n",
              "websites                   0\n",
              "dtype: int64"
            ]
          },
          "metadata": {},
          "execution_count": 3
        }
      ]
    },
    {
      "cell_type": "code",
      "source": [
        "# Delete the two columns that contain large missing data, and the column 'id' as well\n",
        "df = data.drop(['reviews.userCity', 'reviews.userProvince', 'id'], axis=1)\n",
        "df.info()"
      ],
      "metadata": {
        "colab": {
          "base_uri": "https://localhost:8080/"
        },
        "id": "TWr_WSPHZeZn",
        "outputId": "f2596115-8ecd-4c12-baeb-2df2212dab2b"
      },
      "execution_count": 4,
      "outputs": [
        {
          "output_type": "stream",
          "name": "stdout",
          "text": [
            "<class 'pandas.core.frame.DataFrame'>\n",
            "RangeIndex: 10000 entries, 0 to 9999\n",
            "Data columns (total 22 columns):\n",
            " #   Column              Non-Null Count  Dtype  \n",
            "---  ------              --------------  -----  \n",
            " 0   dateAdded           10000 non-null  object \n",
            " 1   dateUpdated         10000 non-null  object \n",
            " 2   address             10000 non-null  object \n",
            " 3   categories          10000 non-null  object \n",
            " 4   primaryCategories   10000 non-null  object \n",
            " 5   city                10000 non-null  object \n",
            " 6   country             10000 non-null  object \n",
            " 7   keys                10000 non-null  object \n",
            " 8   latitude            10000 non-null  float64\n",
            " 9   longitude           10000 non-null  float64\n",
            " 10  name                10000 non-null  object \n",
            " 11  postalCode          10000 non-null  object \n",
            " 12  province            10000 non-null  object \n",
            " 13  reviews.date        10000 non-null  object \n",
            " 14  reviews.dateSeen    10000 non-null  object \n",
            " 15  reviews.rating      10000 non-null  float64\n",
            " 16  reviews.sourceURLs  10000 non-null  object \n",
            " 17  reviews.text        9999 non-null   object \n",
            " 18  reviews.title       9999 non-null   object \n",
            " 19  reviews.username    10000 non-null  object \n",
            " 20  sourceURLs          10000 non-null  object \n",
            " 21  websites            10000 non-null  object \n",
            "dtypes: float64(3), object(19)\n",
            "memory usage: 1.7+ MB\n"
          ]
        }
      ]
    },
    {
      "cell_type": "code",
      "source": [
        "df.head(2)"
      ],
      "metadata": {
        "colab": {
          "base_uri": "https://localhost:8080/",
          "height": 340
        },
        "id": "bIySvqbfZ_5G",
        "outputId": "6c805ae4-288f-4852-9d07-e1d4611b21c2"
      },
      "execution_count": 5,
      "outputs": [
        {
          "output_type": "execute_result",
          "data": {
            "text/plain": [
              "              dateAdded           dateUpdated            address  \\\n",
              "0  2016-10-30T21:42:42Z  2018-09-10T21:06:27Z  5921 Valencia Cir   \n",
              "1  2016-10-30T21:42:42Z  2018-09-10T21:06:27Z  5921 Valencia Cir   \n",
              "\n",
              "                                          categories  \\\n",
              "0  Hotels,Hotels and motels,Hotel and motel reser...   \n",
              "1  Hotels,Hotels and motels,Hotel and motel reser...   \n",
              "\n",
              "               primaryCategories             city country  \\\n",
              "0  Accommodation & Food Services  Rancho Santa Fe      US   \n",
              "1  Accommodation & Food Services  Rancho Santa Fe      US   \n",
              "\n",
              "                                            keys   latitude   longitude  ...  \\\n",
              "0  us/ca/ranchosantafe/5921valenciacir/359754519  32.990959 -117.186136  ...   \n",
              "1  us/ca/ranchosantafe/5921valenciacir/359754519  32.990959 -117.186136  ...   \n",
              "\n",
              "  province          reviews.date  \\\n",
              "0       CA  2013-11-14T00:00:00Z   \n",
              "1       CA  2014-07-06T00:00:00Z   \n",
              "\n",
              "                                    reviews.dateSeen reviews.rating  \\\n",
              "0  2016-08-03T00:00:00Z,2016-07-26T00:00:00Z,2016...            5.0   \n",
              "1  2016-08-02T00:00:00Z,2016-08-26T00:00:00Z,2016...            5.0   \n",
              "\n",
              "                                reviews.sourceURLs  \\\n",
              "0  https://www.hotels.com/hotel/125419/reviews%20/   \n",
              "1  https://www.hotels.com/hotel/125419/reviews%20/   \n",
              "\n",
              "                                        reviews.text  \\\n",
              "0  Our experience at Rancho Valencia was absolute...   \n",
              "1  Amazing place. Everyone was extremely warm and...   \n",
              "\n",
              "                     reviews.title reviews.username  \\\n",
              "0  Best romantic vacation ever!!!!            Paula   \n",
              "1             Sweet sweet serenity                D   \n",
              "\n",
              "                                          sourceURLs  \\\n",
              "0  http://www.hotels.com/ho125419/%25252525253Flo...   \n",
              "1  http://www.hotels.com/ho125419/%25252525253Flo...   \n",
              "\n",
              "                        websites  \n",
              "0  http://www.ranchovalencia.com  \n",
              "1  http://www.ranchovalencia.com  \n",
              "\n",
              "[2 rows x 22 columns]"
            ],
            "text/html": [
              "\n",
              "  <div id=\"df-4bb03c8a-ff2a-4662-ac67-525601b3a220\">\n",
              "    <div class=\"colab-df-container\">\n",
              "      <div>\n",
              "<style scoped>\n",
              "    .dataframe tbody tr th:only-of-type {\n",
              "        vertical-align: middle;\n",
              "    }\n",
              "\n",
              "    .dataframe tbody tr th {\n",
              "        vertical-align: top;\n",
              "    }\n",
              "\n",
              "    .dataframe thead th {\n",
              "        text-align: right;\n",
              "    }\n",
              "</style>\n",
              "<table border=\"1\" class=\"dataframe\">\n",
              "  <thead>\n",
              "    <tr style=\"text-align: right;\">\n",
              "      <th></th>\n",
              "      <th>dateAdded</th>\n",
              "      <th>dateUpdated</th>\n",
              "      <th>address</th>\n",
              "      <th>categories</th>\n",
              "      <th>primaryCategories</th>\n",
              "      <th>city</th>\n",
              "      <th>country</th>\n",
              "      <th>keys</th>\n",
              "      <th>latitude</th>\n",
              "      <th>longitude</th>\n",
              "      <th>...</th>\n",
              "      <th>province</th>\n",
              "      <th>reviews.date</th>\n",
              "      <th>reviews.dateSeen</th>\n",
              "      <th>reviews.rating</th>\n",
              "      <th>reviews.sourceURLs</th>\n",
              "      <th>reviews.text</th>\n",
              "      <th>reviews.title</th>\n",
              "      <th>reviews.username</th>\n",
              "      <th>sourceURLs</th>\n",
              "      <th>websites</th>\n",
              "    </tr>\n",
              "  </thead>\n",
              "  <tbody>\n",
              "    <tr>\n",
              "      <th>0</th>\n",
              "      <td>2016-10-30T21:42:42Z</td>\n",
              "      <td>2018-09-10T21:06:27Z</td>\n",
              "      <td>5921 Valencia Cir</td>\n",
              "      <td>Hotels,Hotels and motels,Hotel and motel reser...</td>\n",
              "      <td>Accommodation &amp; Food Services</td>\n",
              "      <td>Rancho Santa Fe</td>\n",
              "      <td>US</td>\n",
              "      <td>us/ca/ranchosantafe/5921valenciacir/359754519</td>\n",
              "      <td>32.990959</td>\n",
              "      <td>-117.186136</td>\n",
              "      <td>...</td>\n",
              "      <td>CA</td>\n",
              "      <td>2013-11-14T00:00:00Z</td>\n",
              "      <td>2016-08-03T00:00:00Z,2016-07-26T00:00:00Z,2016...</td>\n",
              "      <td>5.0</td>\n",
              "      <td>https://www.hotels.com/hotel/125419/reviews%20/</td>\n",
              "      <td>Our experience at Rancho Valencia was absolute...</td>\n",
              "      <td>Best romantic vacation ever!!!!</td>\n",
              "      <td>Paula</td>\n",
              "      <td>http://www.hotels.com/ho125419/%25252525253Flo...</td>\n",
              "      <td>http://www.ranchovalencia.com</td>\n",
              "    </tr>\n",
              "    <tr>\n",
              "      <th>1</th>\n",
              "      <td>2016-10-30T21:42:42Z</td>\n",
              "      <td>2018-09-10T21:06:27Z</td>\n",
              "      <td>5921 Valencia Cir</td>\n",
              "      <td>Hotels,Hotels and motels,Hotel and motel reser...</td>\n",
              "      <td>Accommodation &amp; Food Services</td>\n",
              "      <td>Rancho Santa Fe</td>\n",
              "      <td>US</td>\n",
              "      <td>us/ca/ranchosantafe/5921valenciacir/359754519</td>\n",
              "      <td>32.990959</td>\n",
              "      <td>-117.186136</td>\n",
              "      <td>...</td>\n",
              "      <td>CA</td>\n",
              "      <td>2014-07-06T00:00:00Z</td>\n",
              "      <td>2016-08-02T00:00:00Z,2016-08-26T00:00:00Z,2016...</td>\n",
              "      <td>5.0</td>\n",
              "      <td>https://www.hotels.com/hotel/125419/reviews%20/</td>\n",
              "      <td>Amazing place. Everyone was extremely warm and...</td>\n",
              "      <td>Sweet sweet serenity</td>\n",
              "      <td>D</td>\n",
              "      <td>http://www.hotels.com/ho125419/%25252525253Flo...</td>\n",
              "      <td>http://www.ranchovalencia.com</td>\n",
              "    </tr>\n",
              "  </tbody>\n",
              "</table>\n",
              "<p>2 rows × 22 columns</p>\n",
              "</div>\n",
              "      <button class=\"colab-df-convert\" onclick=\"convertToInteractive('df-4bb03c8a-ff2a-4662-ac67-525601b3a220')\"\n",
              "              title=\"Convert this dataframe to an interactive table.\"\n",
              "              style=\"display:none;\">\n",
              "        \n",
              "  <svg xmlns=\"http://www.w3.org/2000/svg\" height=\"24px\"viewBox=\"0 0 24 24\"\n",
              "       width=\"24px\">\n",
              "    <path d=\"M0 0h24v24H0V0z\" fill=\"none\"/>\n",
              "    <path d=\"M18.56 5.44l.94 2.06.94-2.06 2.06-.94-2.06-.94-.94-2.06-.94 2.06-2.06.94zm-11 1L8.5 8.5l.94-2.06 2.06-.94-2.06-.94L8.5 2.5l-.94 2.06-2.06.94zm10 10l.94 2.06.94-2.06 2.06-.94-2.06-.94-.94-2.06-.94 2.06-2.06.94z\"/><path d=\"M17.41 7.96l-1.37-1.37c-.4-.4-.92-.59-1.43-.59-.52 0-1.04.2-1.43.59L10.3 9.45l-7.72 7.72c-.78.78-.78 2.05 0 2.83L4 21.41c.39.39.9.59 1.41.59.51 0 1.02-.2 1.41-.59l7.78-7.78 2.81-2.81c.8-.78.8-2.07 0-2.86zM5.41 20L4 18.59l7.72-7.72 1.47 1.35L5.41 20z\"/>\n",
              "  </svg>\n",
              "      </button>\n",
              "      \n",
              "  <style>\n",
              "    .colab-df-container {\n",
              "      display:flex;\n",
              "      flex-wrap:wrap;\n",
              "      gap: 12px;\n",
              "    }\n",
              "\n",
              "    .colab-df-convert {\n",
              "      background-color: #E8F0FE;\n",
              "      border: none;\n",
              "      border-radius: 50%;\n",
              "      cursor: pointer;\n",
              "      display: none;\n",
              "      fill: #1967D2;\n",
              "      height: 32px;\n",
              "      padding: 0 0 0 0;\n",
              "      width: 32px;\n",
              "    }\n",
              "\n",
              "    .colab-df-convert:hover {\n",
              "      background-color: #E2EBFA;\n",
              "      box-shadow: 0px 1px 2px rgba(60, 64, 67, 0.3), 0px 1px 3px 1px rgba(60, 64, 67, 0.15);\n",
              "      fill: #174EA6;\n",
              "    }\n",
              "\n",
              "    [theme=dark] .colab-df-convert {\n",
              "      background-color: #3B4455;\n",
              "      fill: #D2E3FC;\n",
              "    }\n",
              "\n",
              "    [theme=dark] .colab-df-convert:hover {\n",
              "      background-color: #434B5C;\n",
              "      box-shadow: 0px 1px 3px 1px rgba(0, 0, 0, 0.15);\n",
              "      filter: drop-shadow(0px 1px 2px rgba(0, 0, 0, 0.3));\n",
              "      fill: #FFFFFF;\n",
              "    }\n",
              "  </style>\n",
              "\n",
              "      <script>\n",
              "        const buttonEl =\n",
              "          document.querySelector('#df-4bb03c8a-ff2a-4662-ac67-525601b3a220 button.colab-df-convert');\n",
              "        buttonEl.style.display =\n",
              "          google.colab.kernel.accessAllowed ? 'block' : 'none';\n",
              "\n",
              "        async function convertToInteractive(key) {\n",
              "          const element = document.querySelector('#df-4bb03c8a-ff2a-4662-ac67-525601b3a220');\n",
              "          const dataTable =\n",
              "            await google.colab.kernel.invokeFunction('convertToInteractive',\n",
              "                                                     [key], {});\n",
              "          if (!dataTable) return;\n",
              "\n",
              "          const docLinkHtml = 'Like what you see? Visit the ' +\n",
              "            '<a target=\"_blank\" href=https://colab.research.google.com/notebooks/data_table.ipynb>data table notebook</a>'\n",
              "            + ' to learn more about interactive tables.';\n",
              "          element.innerHTML = '';\n",
              "          dataTable['output_type'] = 'display_data';\n",
              "          await google.colab.output.renderOutput(dataTable, element);\n",
              "          const docLink = document.createElement('div');\n",
              "          docLink.innerHTML = docLinkHtml;\n",
              "          element.appendChild(docLink);\n",
              "        }\n",
              "      </script>\n",
              "    </div>\n",
              "  </div>\n",
              "  "
            ]
          },
          "metadata": {},
          "execution_count": 5
        }
      ]
    },
    {
      "cell_type": "code",
      "source": [
        "df['reviews.text'].iloc[:3]"
      ],
      "metadata": {
        "colab": {
          "base_uri": "https://localhost:8080/"
        },
        "id": "gl0PZbdRaeNj",
        "outputId": "e2392afb-3fcd-46af-b813-7907861f18c5"
      },
      "execution_count": 6,
      "outputs": [
        {
          "output_type": "execute_result",
          "data": {
            "text/plain": [
              "0    Our experience at Rancho Valencia was absolute...\n",
              "1    Amazing place. Everyone was extremely warm and...\n",
              "2    We booked a 3 night stay at Rancho Valencia to...\n",
              "Name: reviews.text, dtype: object"
            ]
          },
          "metadata": {},
          "execution_count": 6
        }
      ]
    },
    {
      "cell_type": "code",
      "source": [
        "# Data cleaning and pre-processing"
      ],
      "metadata": {
        "id": "i8nxTWvmaotV"
      },
      "execution_count": null,
      "outputs": []
    },
    {
      "cell_type": "code",
      "source": [
        "import string\n",
        "import nltk\n",
        "from nltk.corpus import stopwords\n",
        "from nltk.stem import PorterStemmer"
      ],
      "metadata": {
        "id": "1MPpBLHBasdu"
      },
      "execution_count": 7,
      "outputs": []
    },
    {
      "cell_type": "code",
      "source": [
        "nltk.download('stopwords')"
      ],
      "metadata": {
        "colab": {
          "base_uri": "https://localhost:8080/"
        },
        "id": "9LyceGABbhHl",
        "outputId": "01b1b9a3-45f4-490f-bf60-336e3622d303"
      },
      "execution_count": 8,
      "outputs": [
        {
          "output_type": "stream",
          "name": "stdout",
          "text": [
            "[nltk_data] Downloading package stopwords to /root/nltk_data...\n",
            "[nltk_data]   Unzipping corpora/stopwords.zip.\n"
          ]
        },
        {
          "output_type": "execute_result",
          "data": {
            "text/plain": [
              "True"
            ]
          },
          "metadata": {},
          "execution_count": 8
        }
      ]
    },
    {
      "cell_type": "code",
      "source": [
        "ps = PorterStemmer()\n",
        "sw = stopwords.words('english')\n",
        "sw = set(sw)"
      ],
      "metadata": {
        "id": "xOv3DF_4a4yh"
      },
      "execution_count": 9,
      "outputs": []
    },
    {
      "cell_type": "code",
      "source": [
        "# Remove punctuation\n",
        "df['review'] = df['reviews.text'].str.translate(str.maketrans('','', string.punctuation))"
      ],
      "metadata": {
        "id": "HO2pAfd0WM6j"
      },
      "execution_count": 10,
      "outputs": []
    },
    {
      "cell_type": "code",
      "source": [
        "# Standardize the text to lowercase\n",
        "df['review'] = df['review'].str.lower()"
      ],
      "metadata": {
        "id": "JP02p24pa4rN"
      },
      "execution_count": 11,
      "outputs": []
    },
    {
      "cell_type": "code",
      "source": [
        "nltk.download('punkt')"
      ],
      "metadata": {
        "colab": {
          "base_uri": "https://localhost:8080/"
        },
        "id": "10Uf3fXDbKC5",
        "outputId": "b961b011-7fe6-46e5-d657-db0620846bde"
      },
      "execution_count": 14,
      "outputs": [
        {
          "output_type": "stream",
          "name": "stdout",
          "text": [
            "[nltk_data] Downloading package punkt to /root/nltk_data...\n",
            "[nltk_data]   Unzipping tokenizers/punkt.zip.\n"
          ]
        },
        {
          "output_type": "execute_result",
          "data": {
            "text/plain": [
              "True"
            ]
          },
          "metadata": {},
          "execution_count": 14
        }
      ]
    },
    {
      "cell_type": "code",
      "source": [
        "# tokenize text\n",
        "from nltk.tokenize import word_tokenize\n",
        "df['review'] = [nltk.word_tokenize(str(comment)) for comment in df['review']]"
      ],
      "metadata": {
        "id": "qS4bJYlaa-kx"
      },
      "execution_count": 16,
      "outputs": []
    },
    {
      "cell_type": "code",
      "source": [
        "# remove stopwords and stem text\n",
        "corpus = []\n",
        "review = df['review']\n",
        "len(review)\n",
        "for i in range(len(review)):\n",
        "\twords = review[i]\n",
        "\twords = [ps.stem(word) for word in words if word not in sw]\n",
        "\twords = ' '.join(words)\n",
        "\tcorpus.append(words)"
      ],
      "metadata": {
        "id": "s547dtfMbIH7"
      },
      "execution_count": 18,
      "outputs": []
    },
    {
      "cell_type": "code",
      "source": [
        "# check the result\n",
        "corpus[:3]"
      ],
      "metadata": {
        "colab": {
          "base_uri": "https://localhost:8080/"
        },
        "id": "lhBr9S-tbwO6",
        "outputId": "7fcd6657-002d-43f1-a2ff-eee8983867d8"
      },
      "execution_count": 20,
      "outputs": [
        {
          "output_type": "execute_result",
          "data": {
            "text/plain": [
              "['experi rancho valencia absolut perfect begin end felt special happi stay would come back heart beat',\n",
              " 'amaz place everyon extrem warm welcom weve stay top notch place definit top 2 great romant getaway take kid along coupl stuf anim wait girl upon arriv cant wait go back',\n",
              " 'book 3 night stay rancho valencia play tenni sinc one highest rate tenni resort america place realli top luxuri standpoint overal experi villa realli perfect staff great attent detail includ fresh squeez orang juic morn restaur bar room servic amaz tenni program realli impress well want come back']"
            ]
          },
          "metadata": {},
          "execution_count": 20
        }
      ]
    },
    {
      "cell_type": "code",
      "source": [
        "from textblob import TextBlob"
      ],
      "metadata": {
        "id": "96fdyl4VcaUR"
      },
      "execution_count": 29,
      "outputs": []
    },
    {
      "cell_type": "code",
      "source": [
        "# create a column that shows whether the review is positive, negative or neutral\n",
        "df['review'] = corpus\n",
        "def subjectivity(text):\n",
        "\treturn TextBlob(text).sentiment.subjectivity\n",
        "\n",
        "def polarity(text):\n",
        "\treturn TextBlob(text).sentiment.polarity"
      ],
      "metadata": {
        "id": "jnyPMWPZb5Oe"
      },
      "execution_count": 27,
      "outputs": []
    },
    {
      "cell_type": "code",
      "source": [
        "df['subjectivity'] = df['review'].apply(subjectivity)"
      ],
      "metadata": {
        "id": "f7_SuRtYcFXf"
      },
      "execution_count": 30,
      "outputs": []
    },
    {
      "cell_type": "code",
      "source": [
        "df['polarity'] = df['review'].apply(polarity)"
      ],
      "metadata": {
        "id": "z6I8jVEqdMGJ"
      },
      "execution_count": 31,
      "outputs": []
    },
    {
      "cell_type": "code",
      "source": [
        "def analysis(score):\n",
        "\tif score < 0:\n",
        "\t\treturn 'Negative'\n",
        "\telif score == 0:\n",
        "\t\treturn 'Neutral'\n",
        "\telse:\n",
        "\t\treturn 'Positive'"
      ],
      "metadata": {
        "id": "Por6szRhdPAd"
      },
      "execution_count": 32,
      "outputs": []
    },
    {
      "cell_type": "code",
      "source": [
        "df['analysis'] = df['polarity'].apply(analysis)"
      ],
      "metadata": {
        "id": "mbDAccT6dRCy"
      },
      "execution_count": 33,
      "outputs": []
    },
    {
      "cell_type": "code",
      "source": [
        "df['analysis'][:20]"
      ],
      "metadata": {
        "colab": {
          "base_uri": "https://localhost:8080/"
        },
        "id": "DAekYPGydTNF",
        "outputId": "73f637a3-d7cc-4218-df90-d9dd7d7380cc"
      },
      "execution_count": 34,
      "outputs": [
        {
          "output_type": "execute_result",
          "data": {
            "text/plain": [
              "0     Positive\n",
              "1     Positive\n",
              "2     Positive\n",
              "3     Negative\n",
              "4     Positive\n",
              "5      Neutral\n",
              "6     Positive\n",
              "7     Positive\n",
              "8     Negative\n",
              "9     Negative\n",
              "10    Positive\n",
              "11    Positive\n",
              "12    Positive\n",
              "13    Positive\n",
              "14    Positive\n",
              "15    Positive\n",
              "16    Positive\n",
              "17    Positive\n",
              "18    Negative\n",
              "19    Positive\n",
              "Name: analysis, dtype: object"
            ]
          },
          "metadata": {},
          "execution_count": 34
        }
      ]
    },
    {
      "cell_type": "code",
      "source": [
        "df['analysis'].value_counts()"
      ],
      "metadata": {
        "colab": {
          "base_uri": "https://localhost:8080/"
        },
        "id": "zVz9epf3dVdE",
        "outputId": "8d2e634b-a1b2-4828-b8fb-5ef1eec1fd21"
      },
      "execution_count": 35,
      "outputs": [
        {
          "output_type": "execute_result",
          "data": {
            "text/plain": [
              "Positive    8597\n",
              "Negative     861\n",
              "Neutral      542\n",
              "Name: analysis, dtype: int64"
            ]
          },
          "metadata": {},
          "execution_count": 35
        }
      ]
    },
    {
      "cell_type": "code",
      "source": [
        "# print the top 5 positive reviews\n",
        "rank = df.sort_values(by='polarity', ascending=False)\n",
        "rank['review'][:5]"
      ],
      "metadata": {
        "colab": {
          "base_uri": "https://localhost:8080/"
        },
        "id": "QB6fSQfYdXvS",
        "outputId": "73748b43-9a71-404f-dfa4-9a39ab6b73c6"
      },
      "execution_count": 36,
      "outputs": [
        {
          "output_type": "execute_result",
          "data": {
            "text/plain": [
              "3273                                  one best hotel stay\n",
              "7870                          stay coupl around area best\n",
              "9038    sierra vista 8 month work govt contract fort h...\n",
              "5410    extend stay accommod perfect locat hotel take ...\n",
              "5261    decid go littl getaway weekend chimney rock un...\n",
              "Name: review, dtype: object"
            ]
          },
          "metadata": {},
          "execution_count": 36
        }
      ]
    },
    {
      "cell_type": "code",
      "source": [
        "# print the top 5 negative reviews\n",
        "rank = df.sort_values(by='polarity', ascending=True)\n",
        "rank['review'][:5]"
      ],
      "metadata": {
        "colab": {
          "base_uri": "https://localhost:8080/"
        },
        "id": "UGeZmvO_daFy",
        "outputId": "7826a7cd-e619-4579-d8ed-0aa398ef8482"
      },
      "execution_count": 37,
      "outputs": [
        {
          "output_type": "execute_result",
          "data": {
            "text/plain": [
              "7440    one worst hotel ever stay could wait leav morn...\n",
              "8248    absolut horribl look afford place stay weekend...\n",
              "9801                  worst hotel experi ever seedi place\n",
              "5959    check trip advisor stay besid dirti hole bed l...\n",
              "2393    worst place ever famili room smelli offic staf...\n",
              "Name: review, dtype: object"
            ]
          },
          "metadata": {},
          "execution_count": 37
        }
      ]
    },
    {
      "cell_type": "code",
      "source": [
        "#plot the subjectivity and polarity \n",
        "plt.figure(figsize=(12,6))\n",
        "plt.scatter('polarity', 'subjectivity', data=df)\n",
        "plt.title('Sentiment Analysis')\n",
        "plt.xlabel('Polarity')\n",
        "plt.ylabel('Subjectivity')"
      ],
      "metadata": {
        "colab": {
          "base_uri": "https://localhost:8080/",
          "height": 371
        },
        "id": "t68zyC0odh2j",
        "outputId": "85640199-d4db-4ee0-b11b-3522d63c9aaf"
      },
      "execution_count": 39,
      "outputs": [
        {
          "output_type": "execute_result",
          "data": {
            "text/plain": [
              "Text(0, 0.5, 'Subjectivity')"
            ]
          },
          "metadata": {},
          "execution_count": 39
        },
        {
          "output_type": "display_data",
          "data": {
            "text/plain": [
              "<Figure size 864x432 with 1 Axes>"
            ],
            "image/png": "[encoded data removed]"
          },
          "metadata": {
            "needs_background": "light"
          }
        }
      ]
    },
    {
      "cell_type": "code",
      "source": [
        "#show the number of positive, negative and neutral reviews\n",
        "df['analysis'].value_counts().plot(kind='bar')"
      ],
      "metadata": {
        "colab": {
          "base_uri": "https://localhost:8080/",
          "height": 317
        },
        "id": "hjp5RRx7d4VS",
        "outputId": "006e97b1-28bf-475f-e39f-a0bc7581ca00"
      },
      "execution_count": 40,
      "outputs": [
        {
          "output_type": "execute_result",
          "data": {
            "text/plain": [
              "<matplotlib.axes._subplots.AxesSubplot at 0x7fbfa8f4ec10>"
            ]
          },
          "metadata": {},
          "execution_count": 40
        },
        {
          "output_type": "display_data",
          "data": {
            "text/plain": [
              "<Figure size 432x288 with 1 Axes>"
            ],
            "image/png": "[encoded data removed]"
          },
          "metadata": {
            "needs_background": "light"
          }
        }
      ]
    }
  ]
}
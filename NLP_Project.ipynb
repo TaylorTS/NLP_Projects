{
  "nbformat": 4,
  "nbformat_minor": 0,
  "metadata": {
    "colab": {
      "name": "NLP_Project.ipynb",
      "provenance": []
    },
    "kernelspec": {
      "name": "python3",
      "display_name": "Python 3"
    },
    "language_info": {
      "name": "python"
    }
  },
  "cells": [
    {
      "cell_type": "code",
      "execution_count": 1,
      "metadata": {
        "id": "QBwG0gsNfAXc"
      },
      "outputs": [],
      "source": [
        "import pandas as pd\n",
        "import numpy as np\n",
        "import string"
      ]
    },
    {
      "cell_type": "code",
      "source": [
        "# dataset was downloaded from Kaggle\n",
        "data = pd.read_csv('/content/Datafiniti_Hotel_Reviews_Jun19.csv')"
      ],
      "metadata": {
        "id": "kDU8ut6KfRro"
      },
      "execution_count": 4,
      "outputs": []
    },
    {
      "cell_type": "code",
      "source": [
        "# get only one star rating or five star rating\n",
        "df = data[(data['reviews.rating']==1) | (data['reviews.rating']==5)]"
      ],
      "metadata": {
        "id": "yPNHQRiDhREJ"
      },
      "execution_count": 5,
      "outputs": []
    },
    {
      "cell_type": "code",
      "source": [
        "# reset index for the new dataset df\n",
        "df = df.reset_index().drop('index', axis=1)"
      ],
      "metadata": {
        "id": "55yjFruthXdg"
      },
      "execution_count": 6,
      "outputs": []
    },
    {
      "cell_type": "code",
      "source": [
        "# data cleaning and pre-processing\n",
        "review = df['reviews.text'].str.lower()"
      ],
      "metadata": {
        "id": "ku8a7KG2hc3G"
      },
      "execution_count": 7,
      "outputs": []
    },
    {
      "cell_type": "code",
      "source": [
        "review = review.str.translate(str.maketrans('', '', string.punctuation))"
      ],
      "metadata": {
        "id": "yfVp7A6Shj7W"
      },
      "execution_count": 8,
      "outputs": []
    },
    {
      "cell_type": "code",
      "source": [
        "review = review.str.split()"
      ],
      "metadata": {
        "id": "VLLVqz4lhnGb"
      },
      "execution_count": 9,
      "outputs": []
    },
    {
      "cell_type": "code",
      "source": [
        "import nltk\n",
        "nltk.download('stopwords')\n",
        "from nltk.corpus import stopwords\n",
        "from nltk.stem.porter import PorterStemmer\n",
        "ps = PorterStemmer()\n",
        "sw = stopwords.words()\n",
        "sw = set(sw)"
      ],
      "metadata": {
        "colab": {
          "base_uri": "https://localhost:8080/"
        },
        "id": "vtPDsXYchp8Q",
        "outputId": "cfbc85f6-1010-43b4-9fff-e27a334c567e"
      },
      "execution_count": 11,
      "outputs": [
        {
          "output_type": "stream",
          "name": "stdout",
          "text": [
            "[nltk_data] Downloading package stopwords to /root/nltk_data...\n",
            "[nltk_data]   Unzipping corpora/stopwords.zip.\n"
          ]
        }
      ]
    },
    {
      "cell_type": "code",
      "source": [
        "corpus = []\n",
        "for i in range(len(review)):\n",
        "\twords = review[i]\n",
        "\twords = [ps.stem(word) for word in words if not word in sw]\n",
        "\twords = ' '.join(words)\n",
        "\tcorpus.append(words)"
      ],
      "metadata": {
        "id": "-TsbgNqIhzI8"
      },
      "execution_count": 12,
      "outputs": []
    },
    {
      "cell_type": "code",
      "source": [
        "corpus[:2]"
      ],
      "metadata": {
        "colab": {
          "base_uri": "https://localhost:8080/"
        },
        "id": "bkIKSxTJh4dH",
        "outputId": "c1f989b9-6811-4d7f-f99f-341ca52da868"
      },
      "execution_count": 13,
      "outputs": [
        {
          "output_type": "execute_result",
          "data": {
            "text/plain": [
              "['cheap excel locat price somewhat standard hace reserv room nice clean offer good continent breakfast plu compens front desk servic personnel excel carmel ac room fan air circul',\n",
              " 'recent stay trip lexington friend group share feel would back routin wait 10 minut elev workout room tini 2 treadmil 2 cheap ellipt machin rock floor use everyth seem']"
            ]
          },
          "metadata": {},
          "execution_count": 13
        }
      ]
    },
    {
      "cell_type": "code",
      "source": [
        "# transform the data\n",
        "from sklearn.feature_extraction.text import CountVectorizer\n",
        "cv = CountVectorizer()\n",
        "x= cv.fit_transform(corpus).toarray()\n",
        "y = df['reviews.rating'].values"
      ],
      "metadata": {
        "id": "FcR_VK2ch7XQ"
      },
      "execution_count": 14,
      "outputs": []
    },
    {
      "cell_type": "code",
      "source": [
        "# perform train_test_split\n",
        "from sklearn.model_selection import train_test_split\n",
        "x_train, x_test, y_train, y_test = train_test_split(x, y, test_size=0.3, random_state=13)"
      ],
      "metadata": {
        "id": "SYHDtKSih_za"
      },
      "execution_count": 15,
      "outputs": []
    },
    {
      "cell_type": "code",
      "source": [
        "# train a model using GuassianNB as a classifier\n",
        "from sklearn.naive_bayes import GaussianNB\n",
        "gb = GaussianNB()\n",
        "gb.fit(x_train, y_train)\n",
        "pred = gb.predict(x_test)"
      ],
      "metadata": {
        "id": "XXclZS2YiDSf"
      },
      "execution_count": 16,
      "outputs": []
    },
    {
      "cell_type": "code",
      "source": [
        "# evaluate the model using testing data\n",
        "from sklearn.metrics import classification_report, confusion_matrix\n",
        "print(classification_report(y_test, pred))\n",
        "print(confusion_matrix(y_test, pred))"
      ],
      "metadata": {
        "colab": {
          "base_uri": "https://localhost:8080/"
        },
        "id": "5jc5wAgpiF3f",
        "outputId": "d75ca17d-8ff5-46c1-f1a1-d2fd1a5fd642"
      },
      "execution_count": 17,
      "outputs": [
        {
          "output_type": "stream",
          "name": "stdout",
          "text": [
            "              precision    recall  f1-score   support\n",
            "\n",
            "           1       0.34      0.57      0.43       168\n",
            "           5       0.95      0.87      0.91      1455\n",
            "\n",
            "    accuracy                           0.84      1623\n",
            "   macro avg       0.65      0.72      0.67      1623\n",
            "weighted avg       0.88      0.84      0.86      1623\n",
            "\n",
            "[[  96   72]\n",
            " [ 183 1272]]\n"
          ]
        }
      ]
    },
    {
      "cell_type": "code",
      "source": [
        "# train a model using MultinomialNB as a classifier\n",
        "from sklearn.naive_bayes import MultinomialNB\n",
        "mb = MultinomialNB()\n",
        "mb.fit(x_train, y_train)\n",
        "predict = mb.predict(x_test)"
      ],
      "metadata": {
        "id": "ZZ8z_fK8iIEP"
      },
      "execution_count": 18,
      "outputs": []
    },
    {
      "cell_type": "code",
      "source": [
        "# evaluate the model using testing data\n",
        "from sklearn.metrics import classification_report, confusion_matrix\n",
        "print(classification_report(y_test, predict))\n",
        "print(confusion_matrix(y_test, predict))"
      ],
      "metadata": {
        "colab": {
          "base_uri": "https://localhost:8080/"
        },
        "id": "7t2OB2CgiK5_",
        "outputId": "a5341d52-30b3-47f4-8f29-313e1937076b"
      },
      "execution_count": 19,
      "outputs": [
        {
          "output_type": "stream",
          "name": "stdout",
          "text": [
            "              precision    recall  f1-score   support\n",
            "\n",
            "           1       0.90      0.85      0.87       168\n",
            "           5       0.98      0.99      0.99      1455\n",
            "\n",
            "    accuracy                           0.97      1623\n",
            "   macro avg       0.94      0.92      0.93      1623\n",
            "weighted avg       0.97      0.97      0.97      1623\n",
            "\n",
            "[[ 142   26]\n",
            " [  16 1439]]\n"
          ]
        }
      ]
    },
    {
      "cell_type": "code",
      "source": [
        "#results from the MultinomialNB showed a much improved accuracy (0.97). "
      ],
      "metadata": {
        "id": "-Z9K19s4iSIs"
      },
      "execution_count": null,
      "outputs": []
    }
  ]
}